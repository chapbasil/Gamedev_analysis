{
 "cells": [
  {
   "cell_type": "code",
   "execution_count": 1,
   "id": "db132d51",
   "metadata": {
    "scrolled": true
   },
   "outputs": [],
   "source": [
    "import pandas as pd\n",
    "import multiprocessing\n",
    "import numpy as np\n",
    "import matplotlib.pyplot as plt\n",
    "import seaborn as sns\n",
    "import warnings\n",
    "from scipy import stats\n",
    "import scipy.stats as stats\n",
    "from scipy.stats import bootstrap\n",
    "warnings.filterwarnings('ignore')\n",
    "\n",
    "RAND=10"
   ]
  },
  {
   "cell_type": "markdown",
   "id": "ee8196d6",
   "metadata": {},
   "source": [
    "# 1. Успешность прототипа"
   ]
  },
  {
   "cell_type": "markdown",
   "id": "6fd11cfd",
   "metadata": {},
   "source": [
    "1 вариант - Если наши предыдущие 200 вариантов полностью разные, в т.ч. каких не было у конкурентов, и это не доработки, а независимые друг от друга прототипы, разрабатываются как эксперимент. В этом случае вероятность успеха 1/2, т.к. это взаимосиключающие независимые события.<br>\n",
    "2 вариант - если 201-й разрабатывался по проекту, который учитывает недостатки всех неуспешных, а не просто \"другой\", как в п.1., или мы знаем, что прототип должен быть успешным, например, есть целевая аудитория, которая ждёт, проводили опросы, анализ спроса, или это заказ на заранее упешный продукт, и т.д., то вероятность успеха близка к 1. Но насколько прототип будет успешный, сказать нельзя, т.к. успех/неуспех не произошли. <br>\n",
    "3 вариант - если 201-й прототип аналогичен успешным прототипам конкурентов, то вероятность успеха аналогична успеху конкурентов и = 401/402 (количество исходов = 1 - 1/201*2 = 401/402).<br>"
   ]
  },
  {
   "cell_type": "markdown",
   "id": "efd0fe7d",
   "metadata": {},
   "source": [
    "# 2. Сравнение групп платящих игроков"
   ]
  },
  {
   "cell_type": "markdown",
   "id": "4a65d4da",
   "metadata": {},
   "source": [
    "2.1. Опишите оптимальный по вашему мнению дизайн эксперимента"
   ]
  },
  {
   "cell_type": "markdown",
   "id": "b8ff2c78",
   "metadata": {},
   "source": [
    "Необходимо провести А/Б тестирование.<br>\n",
    "<b>1. Определить цель, метрику.</b><br>\n",
    "Для чего мы внедряем обновление? Предложить ожидаемый измеримый результат.<br> Цель понятна, ожидаемый результат конкретен. Ожидаем прирост числа плательщиков на 1%. (Было 10, станет 11%).<br>\n",
    "<b>3. Сформулировать гипотезу.</b><br>\n",
    "Гипотеза сформулирована. Пусть не совсем научно, но понятно, что необходимо проверить.<br>\n",
    "<b>2. Определить число игроков и сроки.</b><br>\n",
    "Определить необходимое число участников эксперимента, в соответствии с этим рассчитать время эксперимента, чтобы накопилось необходимое число игроков. Группы А и Б должны быть сопоставимыми, в т.ч. численно. Чем больше игроков и времени на эксперимент, тем более значимые результаты получим.<br>\n",
    "<b>3. Провести А/А тестирование.</b><br> Проверить работоспособность платформы, программы сбора метрик. Если здесь ОК, переходить к следующему пункту. Если нет, то сначала устранить неполадки, чтобы не было искажений в эксперименте.<br>\n",
    "<b>4. Провести эксперимент.</b><br>\n",
    "<b>5. Рассчитать параметры и критерии эксперимента.</b><br>\n",
    "Выбрать между Байесовским подходом и фреквентистским. Если бы цель и метерика не были ясны заранее, можно выбор подхода было бы отнести в п. 1, как вариант. Но можно оставить и здесь.\n",
    "В соответствии с выбранным подходом, рассчитать средние, доверительные интевалы, и пр. метрики, показывающие результат эксперимента<br>\n",
    "<b>6. На основании критериев и оценок теста принять или отвергнуть выдвинутую гипотезу.</b><br>\n",
    "<b>7. Сделать выводы об эффективности доработки.</b><br>"
   ]
  },
  {
   "cell_type": "markdown",
   "id": "a4c85424",
   "metadata": {},
   "source": [
    "2.2. Рассчитайте длительность эксперимента при условии что каждый день в игру приходит около 100 новых игроков."
   ]
  },
  {
   "cell_type": "code",
   "execution_count": 2,
   "id": "5b5262bf",
   "metadata": {
    "scrolled": true
   },
   "outputs": [
    {
     "name": "stdout",
     "output_type": "stream",
     "text": [
      "минимальное количество 2665 человек\n"
     ]
    }
   ],
   "source": [
    "# Для начала вычислим число игроков, необходимое для эксперимента, и разделим на 100 (игроков в день)\n",
    "# Т.к. нам известна точность интервальной оценки (%MDE), можно вычислить минимальное число игроков\n",
    "# Мы не делаем выборку, а берем сразу из генеральной совокупности, поэтому используем z критерий\n",
    "# Для проверки гипотезы при уровне значимости 0,05 z критерий = 1.65 (таблица) для правостороннего критерия,\n",
    "# т.к. смотрим от  11% и выше.\n",
    "\n",
    "# У нас уже есть контрольная группа из 500 игроков, для упрощения расчетов не стала заморачиваться \n",
    "# имитацией А/Б теста. Предположим, дизайнеры внедрили доработку для всех игроков....\n",
    "k = int(((11*89)*(1.65*1.65))/(1**2))\n",
    "# 11 и 89 - жидаемые % плательщиков и тех, кто не оплатит, MDE = (11-10)% = 1%\n",
    "print (f'минимальное количество {k} человек')"
   ]
  },
  {
   "cell_type": "markdown",
   "id": "75a38be1",
   "metadata": {},
   "source": [
    "Если расчет необходим для А/Б тестирования, то число человек * 2 = 5330, чтобы в двух группах было одинаковое количество игроков."
   ]
  },
  {
   "cell_type": "markdown",
   "id": "0f0185e7",
   "metadata": {},
   "source": [
    "При условии, что что каждый день в игру приходит около 100 новых игроков, минимальное число дней будет 2665/100 ~= 27 дней. Округляем в бОльшую сторону, т.к. по формуле рассчитывается мимниальное количество.<br>"
   ]
  },
  {
   "cell_type": "markdown",
   "id": "8e0e4347",
   "metadata": {},
   "source": [
    "Для А/Б тестирования минимально необходимо 5330*2/100 ~= 54 дня."
   ]
  },
  {
   "cell_type": "markdown",
   "id": "5a332255",
   "metadata": {},
   "source": [
    "2.3. Самостоятельно сгенерируйте датасет с около 10% плательщиков (контроль) и рассчитайте доверительный интервал. "
   ]
  },
  {
   "cell_type": "code",
   "execution_count": 3,
   "id": "e30d6087",
   "metadata": {
    "scrolled": true
   },
   "outputs": [],
   "source": [
    "alls = [17,17,16]*10 # датасет со 500 игроками на 30 дней\n",
    "vybor = [1,2,2]*10 # датасет с плательщиками на 30 дней"
   ]
  },
  {
   "cell_type": "code",
   "execution_count": 4,
   "id": "ff467203",
   "metadata": {
    "scrolled": true
   },
   "outputs": [],
   "source": [
    "# список с % плательщиков на 30 дней\n",
    "proba = []\n",
    "j = 0\n",
    "i=0\n",
    "while j < 30 and i < 30:\n",
    "    m = vybor[i]/alls[j]*100\n",
    "    j+=1\n",
    "    i+=1\n",
    "    proba.append(m)"
   ]
  },
  {
   "cell_type": "code",
   "execution_count": 5,
   "id": "244ac0a2",
   "metadata": {
    "scrolled": true
   },
   "outputs": [
    {
     "name": "stdout",
     "output_type": "stream",
     "text": [
      "ДИ = (8.8, 10.9)\n"
     ]
    }
   ],
   "source": [
    "# Встроенным методом бутстрэп рассчитаем ДИ\n",
    "from scipy.stats import bootstrap\n",
    "res = bootstrap((proba,), np.mean, confidence_level=0.95, random_state=30, n_resamples=1000)\n",
    "ci_boostr_scipy = (round(res.confidence_interval.low, 1), round(res.confidence_interval.high, 1))\n",
    "print(f\"ДИ = {ci_boostr_scipy}\")"
   ]
  },
  {
   "cell_type": "code",
   "execution_count": 6,
   "id": "0f1ad422",
   "metadata": {
    "scrolled": true
   },
   "outputs": [
    {
     "name": "stdout",
     "output_type": "stream",
     "text": [
      "ДИ = (9.7, 10.3)\n"
     ]
    }
   ],
   "source": [
    "from statistics import stdev\n",
    "# По формуле возьмем двусторонний интервал, чтобы проверить, в каких пределах лежит среднее\n",
    "std_dev = stdev(proba) # стандартное отклонение ГС\n",
    "accuracy_of_int = 1.96 * (std_dev / np.sqrt(500))\n",
    "sample_mean = 10\n",
    "ci = (round((sample_mean - accuracy_of_int), 1), round((sample_mean + accuracy_of_int), 1))\n",
    "print(f\"ДИ = {ci}\")"
   ]
  },
  {
   "cell_type": "code",
   "execution_count": 7,
   "id": "fdbe9de0",
   "metadata": {
    "scrolled": true
   },
   "outputs": [],
   "source": [
    "# Попробуем сгенерить датасет с верояностями =)\n",
    "# Предположим, что распределение нормальное, чтобы использовать параметрические критерии\n",
    "# Среднее пусть будет 10% из условия\n",
    "prob = np.random.normal(loc=10, size=30)"
   ]
  },
  {
   "cell_type": "code",
   "execution_count": 8,
   "id": "91bbf898",
   "metadata": {
    "scrolled": true
   },
   "outputs": [
    {
     "name": "stdout",
     "output_type": "stream",
     "text": [
      "ДИ = (9.7, 10.3)\n"
     ]
    }
   ],
   "source": [
    "res = bootstrap((prob,), np.mean, confidence_level=0.95, random_state=10, n_resamples=1000)\n",
    "ci_boostr_scipy = (round(res.confidence_interval.low, 1), round(res.confidence_interval.high, 1))\n",
    "print(f\"ДИ = {ci_boostr_scipy}\")"
   ]
  },
  {
   "cell_type": "code",
   "execution_count": 9,
   "id": "b29a4990",
   "metadata": {
    "scrolled": true
   },
   "outputs": [
    {
     "name": "stdout",
     "output_type": "stream",
     "text": [
      "ДИ = (9.93, 10.07)\n"
     ]
    }
   ],
   "source": [
    "from scipy import mean\n",
    "std_dev = stdev(prob)\n",
    "# Возьмем двусторонний, чтобы проверить, в каких пределах лежит среднее\n",
    "accuracy_of_int = round(1.96 * (std_dev / np.sqrt(500)), 2)\n",
    "sample_mean = 10\n",
    "ci = (sample_mean - accuracy_of_int, sample_mean + accuracy_of_int)\n",
    "print(f\"ДИ = {ci}\")"
   ]
  },
  {
   "cell_type": "markdown",
   "id": "1567686b",
   "metadata": {},
   "source": [
    "Получили несколько вариантов ДИ с уровнем доверия 0,95 и заданным средним = 10%. У бутстрепа самый широкий ДИ, у расчета по формуле самый строгий. Возьмем ДИ сгенерированной выборки, рассчитанный по формуле = (9.7, 10.3)."
   ]
  },
  {
   "cell_type": "markdown",
   "id": "0643bfb4",
   "metadata": {},
   "source": [
    "2.4 Сгенерируйте несколько вариантов экспериментальной группы (хуже, лучше, без эффекта), рассчитайте силу эффекта, ДИ и ваши выводы для каждого варианта."
   ]
  },
  {
   "cell_type": "code",
   "execution_count": 10,
   "id": "465df664",
   "metadata": {
    "scrolled": true
   },
   "outputs": [
    {
     "name": "stdout",
     "output_type": "stream",
     "text": [
      "средний % плательщиков после эксперимента = 8.3\n"
     ]
    }
   ],
   "source": [
    "# Срок наблюдения 4 дня, возьмем 400 человек (больше, чем в п.1 для простоты расчета)\n",
    "# Предполагаем, что плательщиков 11%\n",
    "# Вариант, что после обновления стало хуже, плательщики приходят реже\n",
    "\n",
    "n = 27 # число дней\n",
    "vybor_bad = [8, 8, 9]*9\n",
    "alls_exp = [100, 100, 100]*9\n",
    "\n",
    "proba_bad = []\n",
    "j = 0\n",
    "i=0\n",
    "while j < n and i < n:\n",
    "    m = vybor_bad[i]/alls_exp[j]*100\n",
    "    j+=1\n",
    "    i+=1\n",
    "    proba_bad.append(m)\n",
    "    \n",
    "# Среднее после эксперимента    \n",
    "sample_mean_bad = round(np.mean(proba_bad), 1)    \n",
    "print(f\"средний % плательщиков после эксперимента = {sample_mean_bad}\")"
   ]
  },
  {
   "cell_type": "code",
   "execution_count": 11,
   "id": "c74bd5f9",
   "metadata": {
    "scrolled": false
   },
   "outputs": [
    {
     "name": "stdout",
     "output_type": "stream",
     "text": [
      "ДИ = (8.1, 8.5)\n"
     ]
    }
   ],
   "source": [
    "# Возьмем двусторонний интервал, чтобы проверить, в каких пределах лежит среднее\n",
    "std_dev = stdev(proba_bad)\n",
    "accuracy_of_int = 1.96 * (std_dev / np.sqrt(n))\n",
    "ci = (round(sample_mean_bad - accuracy_of_int, 1), round(sample_mean_bad + accuracy_of_int, 1))\n",
    "print(f\"ДИ = {ci}\")"
   ]
  },
  {
   "cell_type": "code",
   "execution_count": 12,
   "id": "d9edd3b5",
   "metadata": {
    "scrolled": true
   },
   "outputs": [
    {
     "data": {
      "text/plain": [
       "TtestResult(statistic=-28.844410203711906, pvalue=1.4281236399318199e-21, df=26)"
      ]
     },
     "execution_count": 12,
     "metadata": {},
     "output_type": "execute_result"
    }
   ],
   "source": [
    "# Проверим разности средних одновыборочным т-критерием для всех вариаинтов: лучше, хуже, без изменений\n",
    "from scipy. stats import ttest_1samp\n",
    "ttest_1samp(proba_bad, 11, alternative='less') # т.к. ожид. % меньше, задан параметр less, иначе ошибка\n",
    "# Встроенный метод считает выборочное число степеней свободы = n-1,\n",
    "# но для интереса посомтрим, к тому же различия не значительны"
   ]
  },
  {
   "cell_type": "code",
   "execution_count": 13,
   "id": "a452cc87",
   "metadata": {},
   "outputs": [
    {
     "data": {
      "text/plain": [
       "1.0"
      ]
     },
     "execution_count": 13,
     "metadata": {},
     "output_type": "execute_result"
    }
   ],
   "source": [
    "# Для оценки мощности теста (с какой долей уверенности мы верно принимаем или отвергаем \n",
    "# гипотезу об отсутствии различий, принимаем результат эксперимента)\n",
    "from statsmodels.stats.power import TTestPower\n",
    "\n",
    "TTestPower.power(0.8,\n",
    "                 nobs=n,\n",
    "                 effect_size=sample_mean_bad / stdev(proba_bad),\n",
    "                 alpha=0.05,\n",
    "                 df=n,\n",
    "                 alternative='two-sided')"
   ]
  },
  {
   "cell_type": "markdown",
   "id": "eeb0882c",
   "metadata": {},
   "source": [
    "Мощность теста = 1, с уверенностью 100%  принимаем результат эксперимента.<br>pvalue меньше уровня значимости 0,05. ДИ эксперимента левее ДИ прошлого результата (причем любого ДИ), что говорит об уменьшении %. Отвергаем гипотезу геймдизайнеров, внедрение обновления принесло значимый спад числа плательщиков."
   ]
  },
  {
   "cell_type": "code",
   "execution_count": 14,
   "id": "c404f331",
   "metadata": {
    "scrolled": true
   },
   "outputs": [
    {
     "name": "stdout",
     "output_type": "stream",
     "text": [
      "средний % плательщиков после эксперимента = 11.3\n"
     ]
    }
   ],
   "source": [
    "# Варинат лучше\n",
    "vybor_best = [12, 11, 11]*9\n",
    "alls_exp = [100, 100, 100]*9\n",
    "\n",
    "proba_best = []\n",
    "j = 0\n",
    "i=0\n",
    "while j < n and i < n:\n",
    "    e = vybor_best[i]/alls_exp[j]*100\n",
    "    j+=1\n",
    "    i+=1\n",
    "    proba_best.append(e)\n",
    "    \n",
    "# Среднее после эксперимента    \n",
    "sample_mean_best = round(np.mean(proba_best), 1)    \n",
    "print(f\"средний % плательщиков после эксперимента = {sample_mean_best}\")"
   ]
  },
  {
   "cell_type": "code",
   "execution_count": 15,
   "id": "0a89a979",
   "metadata": {},
   "outputs": [
    {
     "name": "stdout",
     "output_type": "stream",
     "text": [
      "ДИ = (11.1, 11.481202064100243)\n"
     ]
    }
   ],
   "source": [
    "# Возьмем двусторонний интервал, чтобы проверить, в каких пределах лежит среднее\n",
    "std_dev = stdev(proba_best)\n",
    "accuracy_of_int = 1.96 * (std_dev / np.sqrt(n))\n",
    "ci = (round(sample_mean_best - accuracy_of_int, 1), sample_mean_best + accuracy_of_int)\n",
    "print(f\"ДИ = {ci}\")"
   ]
  },
  {
   "cell_type": "code",
   "execution_count": 16,
   "id": "4a9b81db",
   "metadata": {
    "scrolled": true
   },
   "outputs": [
    {
     "data": {
      "text/plain": [
       "TtestResult(statistic=3.6055512754639953, pvalue=0.0006480134309049392, df=26)"
      ]
     },
     "execution_count": 16,
     "metadata": {},
     "output_type": "execute_result"
    }
   ],
   "source": [
    "ttest_1samp(proba_best, 11.0, alternative='greater')"
   ]
  },
  {
   "cell_type": "code",
   "execution_count": 17,
   "id": "0faa5aa1",
   "metadata": {},
   "outputs": [
    {
     "data": {
      "text/plain": [
       "1.0"
      ]
     },
     "execution_count": 17,
     "metadata": {},
     "output_type": "execute_result"
    }
   ],
   "source": [
    "TTestPower.power(0.8,\n",
    "                 nobs=n,\n",
    "                 effect_size=sample_mean_best / stdev(proba_best),\n",
    "                 alpha=0.05,\n",
    "                 df=n,\n",
    "                 alternative='two-sided')"
   ]
  },
  {
   "cell_type": "markdown",
   "id": "96c7250b",
   "metadata": {},
   "source": [
    "Мощность теста = 1, с уверенностью 100% принимаем результат эксперимента.<br>\n",
    "pvalue меньше уровня значимости 0,05. ДИ эксперимента больше ожидаемого среднего 11%. Принимаем гипотезу геймдизайнеров, внедрение обновления принесло значимый рост числа плательщиков."
   ]
  },
  {
   "cell_type": "code",
   "execution_count": 18,
   "id": "a7df60ae",
   "metadata": {
    "scrolled": true
   },
   "outputs": [
    {
     "name": "stdout",
     "output_type": "stream",
     "text": [
      "средний % плательщиков после эксперимента = 10.0\n"
     ]
    }
   ],
   "source": [
    "# Варинат осталось так же\n",
    "vybor_ = [11, 10, 10, 10, 10, 9, 10, 10, 10]*3\n",
    "alls_ = [100, 100, 100]*9\n",
    "\n",
    "proba_ = []\n",
    "j = 0\n",
    "i=0\n",
    "while j < n and i < n:\n",
    "    m = vybor_[i]/alls_[j]*100\n",
    "    j+=1\n",
    "    i+=1\n",
    "    proba_.append(m)\n",
    "    \n",
    "# Среднее после эксперимента    \n",
    "sample_mean_ = round(np.mean(proba_), 1)    \n",
    "print(f\"средний % плательщиков после эксперимента = {sample_mean_}\")"
   ]
  },
  {
   "cell_type": "code",
   "execution_count": 19,
   "id": "bf9ca48f",
   "metadata": {},
   "outputs": [
    {
     "name": "stdout",
     "output_type": "stream",
     "text": [
      "ДИ = (9.8, 10.2)\n"
     ]
    }
   ],
   "source": [
    "std_dev = stdev(proba_) \n",
    "accuracy_of_int = 1.96 * (std_dev / np.sqrt(n))\n",
    "ci = (round(sample_mean_ - accuracy_of_int, 1), round(sample_mean_ + accuracy_of_int, 1))\n",
    "print(f\"ДИ = {ci}\")"
   ]
  },
  {
   "cell_type": "code",
   "execution_count": 20,
   "id": "e584650e",
   "metadata": {},
   "outputs": [
    {
     "data": {
      "text/plain": [
       "TtestResult(statistic=-10.816653826391967, pvalue=2.0170782216251872e-11, df=26)"
      ]
     },
     "execution_count": 20,
     "metadata": {},
     "output_type": "execute_result"
    }
   ],
   "source": [
    "ttest_1samp(proba_, 11.0, alternative='less')"
   ]
  },
  {
   "cell_type": "code",
   "execution_count": 21,
   "id": "5d746dab",
   "metadata": {},
   "outputs": [
    {
     "data": {
      "text/plain": [
       "1.0"
      ]
     },
     "execution_count": 21,
     "metadata": {},
     "output_type": "execute_result"
    }
   ],
   "source": [
    "TTestPower.power(0.8,\n",
    "                 nobs=n,\n",
    "                 effect_size=sample_mean_ / stdev(proba_),\n",
    "                 alpha=0.05,\n",
    "                 df=n,\n",
    "                 alternative='two-sided')"
   ]
  },
  {
   "cell_type": "markdown",
   "id": "1ca590df",
   "metadata": {},
   "source": [
    "Мощность теста = 1, с уверенностью 100% принимаем результат эксперимента.<br>\n",
    "pvalue меньшее уровня значимости 0,05. ДИ для среднего процента плательщиков эксперимента внутри ДИ начального наблюдения. Отвергаем гипотезу геймдизайнеров, внедрение обновления не принесло ожидаемый результат, средний процент плательщиков так же около 10%"
   ]
  },
  {
   "cell_type": "markdown",
   "id": "f968dc76",
   "metadata": {},
   "source": [
    "2.5. Решите задачу 2 разными подходами: frequentist / bayesian"
   ]
  },
  {
   "cell_type": "markdown",
   "id": "d3e49408",
   "metadata": {},
   "source": [
    "Фреквентистский подход описан в п.2 <br>\n",
    "Байесовский: Если апостериорной оценке соответствовало бета-распределение, то и априорной тоже должно. Отсюда можно утверждать, что объем выборки и число дней не важны для исследования. Но, с увеличением выборки уменьшаются дисперсия и ошибка, наблюдение более точное. Число игроков должно соответствовать допустимой ошибке, или ожидаемому отклонению. По условиям, ожидается прирост в 1%. Тогда, аналогично берём критерий, как в п. 2."
   ]
  },
  {
   "cell_type": "code",
   "execution_count": 22,
   "id": "8d34e442",
   "metadata": {},
   "outputs": [
    {
     "name": "stdout",
     "output_type": "stream",
     "text": [
      "желаемое количество 2665 человек\n"
     ]
    }
   ],
   "source": [
    "v = int((0.89*0.11)/((0.01/1.65)**2))\n",
    "print (f'желаемое количество {int(v)} человек')"
   ]
  },
  {
   "cell_type": "markdown",
   "id": "66039360",
   "metadata": {},
   "source": [
    "Тогда рекомендуемое число дней теста = 27 так же, как и в п. 2\n",
    "Но проводить эксперимент при Байесовском подходе через меньшее число дней так же можно."
   ]
  },
  {
   "cell_type": "markdown",
   "id": "0e3b8733",
   "metadata": {},
   "source": [
    "# 3. Предсказание оттока"
   ]
  },
  {
   "cell_type": "markdown",
   "id": "1dcc9cbd",
   "metadata": {},
   "source": [
    "# 3.1 Как бы вы решали задачу предсказания отвала игрока?"
   ]
  },
  {
   "cell_type": "markdown",
   "id": "223377eb",
   "metadata": {},
   "source": [
    "Два варианта решения:<br>\n",
    "    - есть возможность собрать данные об игроках;<br>\n",
    "    - нет возможности собрать, есть только id, datetime, номер шага."
   ]
  },
  {
   "cell_type": "markdown",
   "id": "e34d133f",
   "metadata": {},
   "source": [
    "Рассмотрим первый случай."
   ]
  },
  {
   "cell_type": "markdown",
   "id": "ae737663",
   "metadata": {},
   "source": [
    "1. Для начала необходимо собрать фичи ушедших игроков, на основании которых можно было бы предсказать шаг отвала. Лучше всего, если это  данные внутриигровых событий, пользовательские клики в качестве признаков. Ими могут быть, например, активность в чате, уровень игрока, оставшиеся дни подписки, количество денег, потраченных игроком, количество коммуникаций с другими персонажами, общее количество времени в игре, частота входа и игру и т.д. Для каждой игры следует использовать свои конкретные фичи.\n",
    "<br>\n",
    "2. Выбрать модель бинарного классификатора, предсказывающего останется игрок или уйдёт. Это может быть логистическая регрессия, бустинг, лес, а если зависимости сложные, то наивный Байес, KNN. Можно использовать стекинг/блендинг из моделей. <br>\n",
    "3. Выбрать трешхолд для уровня отвала – какую вероятность считать пороговой, т.е. для какой вероятности ухода можно принимать меры, чтобы удержать игрока.<br>\n",
    "4. Для игроков, по которым предсказан отвал, подобрать модель, предсказывающая шаг, с которого игрок уйдёт. Логистическая регрессия сразу отпадает, т.к. это бинарный классификатор, с ним могут возникнуть сложности.\n",
    "Можно выбрать: бустинг, случайный лес,  так же, если зависимости сложные, то наивный Байес, KNN. Можно использовать стекинг/блендинг из моделей.<br>\n",
    "Мы экономим ресурсы, отбирая для предсказания шага только тех, кто скорее всего уйдет, так как иначе, мы бы сначала рассчитали шаг для всех игроков, потом по всем же игрокам и вероятность отвала."
   ]
  },
  {
   "cell_type": "markdown",
   "id": "f1bfda5a",
   "metadata": {},
   "source": [
    "Если собрать фичи нет возможности/времени, то здесь модель не требуется.\n",
    "Если шаг отвала неизвестен:\n",
    "1. Определить период, который считаем отвалом, например, неделя, 10 дней,… и т.п. Выбрать число дней в периоде = n. Выбрать пользователей, которые неактивны n дней  и более. По ним рассчитать шаг, который встречается чаще всего. Это и будет шаг отвала. Можно взять несколько шагов, если число отвалов примерно одинаковое.\n",
    "2. Внедрить альтернативный шаг (при необходимости для каждого)."
   ]
  },
  {
   "cell_type": "markdown",
   "id": "25ab2017",
   "metadata": {},
   "source": [
    "# 3.2 Как оценить качество полученной модели? Опишите методы которые знаете и какой считаете оптимальным и почему."
   ]
  },
  {
   "cell_type": "markdown",
   "id": "653c5d96",
   "metadata": {},
   "source": [
    "При выборе модели машинного обучения учитываются качество прогноза и скорость вычислений.\n",
    "1. Для бинарного классифиактора качество модели измеряется показателями ROC AUC, Accuracy, recall.  Чем выше показатели, тем лучше. Обучить несколько разных моделей, например, 3-4 (логистическая регрессия, лес, бустинг, наивный байес). Для байеса вероятности откалибровать, определить трешхолд ухода, фичу “уйдет – 1, останется – 0”.\n",
    " Необходима модель, минимизирующая ложноотрицательные ошибки (второго рода), т.к. лучше игроку, который собирается остаться, предложить альтернативный шаг туториала, чем оставить без внимания того, кто собрался уйти. Обычно ROC AUC берут не ниже 0.7. Но необходимо постараться достичь качества 0.9. В интернете пишут, что обычно достаточно линейной регрессии, лучше потратить ресурсы на качественный подбор и генерацию фичей.\n",
    "Для многоклассового классифиактора такие же метрики, как и для бинарного, только используется микро- или макро-усреднение по всем классам. Обычно на практике есть дизбаланс классов, поэтому лучше макро-усреднение.\n",
    "2. Если мощности не позволяют использовать модели лучшего качества, то придётся пожертвовать долей качества."
   ]
  },
  {
   "cell_type": "markdown",
   "id": "e3f01cec",
   "metadata": {},
   "source": [
    "# 3.3 Предположим что вы разработали модель которая с достаточной вероятностью предсказывает отвал. Опишите дизайн эксперимента и методологию по проверке гипотезы геймдизайнеров"
   ]
  },
  {
   "cell_type": "markdown",
   "id": "3a5fd13e",
   "metadata": {},
   "source": [
    "Как для случая с подбором фичей, так и без него, необходимо проверить эффективность альтернативного шага.\n",
    "Если мы предсказываем, что игрок уйдёт, нет необходимости в А/Б тестах, лучше сразу предлагать, т.к. мы ничего не теряем.\n",
    "Для этого необходимо провести тестирование “до и после” – сравнить, на сколько значима разница между ушедшими до внедрения альтернативного туториала и после. Сумма ушедших после внедрения туториала = сумма ушедших после обычного шага + сумма ушедших после альтернативного. Уточним гипотезу: \"После внедрения туториала процент ушедших игроков с N-го шага будет больше, чем до внедрения\"\n",
    "Число экспериментов = число шагов, с которых игроки уходят. <br>\n",
    "Этапы для каждого эксперимента:\n",
    "1. Цель. Предотвратить уход как можно большего количества игроков после предсказанного шага.\n",
    "Для этого внедрить альтернативный шаг туториала. Как только игрок, по которому предсказан отвал, доходит до этого шага, предложить ему альтернативный вариант прохождения.\n",
    "Определить период эксперимента: дни, недели,.. Чем дольше, тем точнее.\n",
    "Рассчитать, сколько уходило игроков до внедрения альтернативного шага.\n",
    "2. Провести эксперимент.\n",
    "3. После завершения периода эксперимента рассчитать, сколько уходило игроков за преиод (за дни, недели,.. в заисимости от игры) после прохождения альтернативного шага. Желательно, чтобы период и число игроков в эксперименте до внедрения альтернативного шага были сопоставимы с периодом до эксперимента.\n",
    "Допустим, выбрали частотный подход для проверки гипотезы.\n",
    "Далее рассчитать частоты числа ушедших и оставшихся(например, по неделям, сколько за каждую ушли), провреить оба распределения на нормальность (для ушедших до эксперимента и после).\n",
    "3. Выбрать критерий для сравнения средних (если есть выбросы, можно взять медиану). Если оба распределения нормальные, можно использовать двухвыборочный критерий Стюдента, если хотя бы у одного распределение ненормальное, можно взять критерий Манна-Уитни.\n",
    "Проверить значимость различий и рассчитать мощность теста.\n",
    "4. Принять или отвергнуть гипотезу. Если различия значимы, то внедрение альтенативного шага дало эффект. Если различия не значимы, то это говорит о том, что внедрение ничего не дало.\n",
    "\n",
    "Можно так же рассчитать MDE по ушедшим, в случае необходимости, т.к. заранее нам не известен этот показатель.<br>\n",
    "Как вариант, ещё рассчитать экономический эффект внедрения -  сколько прибыли принес приток игроков (за вычетом роста цен и пр.) за счет альтернативного шага."
   ]
  },
  {
   "cell_type": "markdown",
   "id": "2018c01c",
   "metadata": {},
   "source": [
    "# 4. Эффективность рекламных кампаний"
   ]
  },
  {
   "cell_type": "markdown",
   "id": "522f2dc2",
   "metadata": {},
   "source": [
    "# 4.1 Гипотеза - чем больший COST расходуется на кампанию тем ниже ROAS 60го дня "
   ]
  },
  {
   "cell_type": "markdown",
   "id": "aa5881c4",
   "metadata": {},
   "source": [
    "<b>Исходите из того что мы точно знаем что CPI зависит от объема нелинейно, вопрос в том как эту зависимость описать и учесть во 2м вопросе."
   ]
  },
  {
   "cell_type": "markdown",
   "id": "f42732eb",
   "metadata": {},
   "source": [
    "Переформулируем гипотезу. Выдвинем Н0: между COST и ROAS нет зависимости. Тогда альтернативная гипотеза Н1: между COST и ROAS есть взаимосвязь.\n",
    "Если Н1 подвердится, опишем связь."
   ]
  },
  {
   "cell_type": "code",
   "execution_count": 23,
   "id": "c19f5d4b",
   "metadata": {
    "scrolled": true
   },
   "outputs": [
    {
     "data": {
      "text/html": [
       "<div>\n",
       "<style scoped>\n",
       "    .dataframe tbody tr th:only-of-type {\n",
       "        vertical-align: middle;\n",
       "    }\n",
       "\n",
       "    .dataframe tbody tr th {\n",
       "        vertical-align: top;\n",
       "    }\n",
       "\n",
       "    .dataframe thead th {\n",
       "        text-align: right;\n",
       "    }\n",
       "</style>\n",
       "<table border=\"1\" class=\"dataframe\">\n",
       "  <thead>\n",
       "    <tr style=\"text-align: right;\">\n",
       "      <th></th>\n",
       "      <th>Install_Dates</th>\n",
       "      <th>campaign_id</th>\n",
       "      <th>Country</th>\n",
       "      <th>installs</th>\n",
       "      <th>spends</th>\n",
       "    </tr>\n",
       "  </thead>\n",
       "  <tbody>\n",
       "    <tr>\n",
       "      <th>0</th>\n",
       "      <td>2020-04-14</td>\n",
       "      <td>90570</td>\n",
       "      <td>CZ</td>\n",
       "      <td>35</td>\n",
       "      <td>19.79</td>\n",
       "    </tr>\n",
       "    <tr>\n",
       "      <th>1</th>\n",
       "      <td>2020-04-28</td>\n",
       "      <td>90619</td>\n",
       "      <td>AT</td>\n",
       "      <td>5</td>\n",
       "      <td>4.99</td>\n",
       "    </tr>\n",
       "    <tr>\n",
       "      <th>2</th>\n",
       "      <td>2020-05-10</td>\n",
       "      <td>794235</td>\n",
       "      <td>PK</td>\n",
       "      <td>79</td>\n",
       "      <td>0.40</td>\n",
       "    </tr>\n",
       "    <tr>\n",
       "      <th>3</th>\n",
       "      <td>2020-05-07</td>\n",
       "      <td>91872</td>\n",
       "      <td>FR</td>\n",
       "      <td>12</td>\n",
       "      <td>9.56</td>\n",
       "    </tr>\n",
       "    <tr>\n",
       "      <th>4</th>\n",
       "      <td>2020-04-03</td>\n",
       "      <td>19115</td>\n",
       "      <td>JP</td>\n",
       "      <td>6</td>\n",
       "      <td>3.39</td>\n",
       "    </tr>\n",
       "  </tbody>\n",
       "</table>\n",
       "</div>"
      ],
      "text/plain": [
       "  Install_Dates  campaign_id Country  installs  spends\n",
       "0    2020-04-14        90570      CZ        35   19.79\n",
       "1    2020-04-28        90619      AT         5    4.99\n",
       "2    2020-05-10       794235      PK        79    0.40\n",
       "3    2020-05-07        91872      FR        12    9.56\n",
       "4    2020-04-03        19115      JP         6    3.39"
      ]
     },
     "execution_count": 23,
     "metadata": {},
     "output_type": "execute_result"
    }
   ],
   "source": [
    "# Загружаем таблицы\n",
    "costs = pd.read_csv('costs.csv')\n",
    "revenue = pd.read_csv('revenue.csv')\n",
    "costs.head()"
   ]
  },
  {
   "cell_type": "code",
   "execution_count": 24,
   "id": "f65d50c2",
   "metadata": {
    "scrolled": true
   },
   "outputs": [
    {
     "name": "stdout",
     "output_type": "stream",
     "text": [
      "<class 'pandas.core.frame.DataFrame'>\n",
      "RangeIndex: 9934 entries, 0 to 9933\n",
      "Data columns (total 5 columns):\n",
      " #   Column         Non-Null Count  Dtype  \n",
      "---  ------         --------------  -----  \n",
      " 0   Install_Dates  9934 non-null   object \n",
      " 1   campaign_id    9934 non-null   int64  \n",
      " 2   Country        9928 non-null   object \n",
      " 3   installs       9934 non-null   int64  \n",
      " 4   spends         9934 non-null   float64\n",
      "dtypes: float64(1), int64(2), object(2)\n",
      "memory usage: 388.2+ KB\n"
     ]
    }
   ],
   "source": [
    "costs.info()"
   ]
  },
  {
   "cell_type": "code",
   "execution_count": 25,
   "id": "a4abda9f",
   "metadata": {
    "scrolled": true
   },
   "outputs": [
    {
     "data": {
      "text/html": [
       "<div>\n",
       "<style scoped>\n",
       "    .dataframe tbody tr th:only-of-type {\n",
       "        vertical-align: middle;\n",
       "    }\n",
       "\n",
       "    .dataframe tbody tr th {\n",
       "        vertical-align: top;\n",
       "    }\n",
       "\n",
       "    .dataframe thead th {\n",
       "        text-align: right;\n",
       "    }\n",
       "</style>\n",
       "<table border=\"1\" class=\"dataframe\">\n",
       "  <thead>\n",
       "    <tr style=\"text-align: right;\">\n",
       "      <th></th>\n",
       "      <th>Install_Dates</th>\n",
       "      <th>campaign_id</th>\n",
       "      <th>Country</th>\n",
       "      <th>1d_LTV</th>\n",
       "      <th>3d_LTV</th>\n",
       "      <th>7d_LTV</th>\n",
       "      <th>14d_LTV</th>\n",
       "      <th>30d_LTV</th>\n",
       "      <th>60d_LTV</th>\n",
       "    </tr>\n",
       "  </thead>\n",
       "  <tbody>\n",
       "    <tr>\n",
       "      <th>0</th>\n",
       "      <td>2020-04-14</td>\n",
       "      <td>90570</td>\n",
       "      <td>CZ</td>\n",
       "      <td>7.721194</td>\n",
       "      <td>8.104811</td>\n",
       "      <td>10.209480</td>\n",
       "      <td>11.845200</td>\n",
       "      <td>15.349594</td>\n",
       "      <td>15.768420</td>\n",
       "    </tr>\n",
       "    <tr>\n",
       "      <th>1</th>\n",
       "      <td>2020-03-30</td>\n",
       "      <td>90262</td>\n",
       "      <td>CA</td>\n",
       "      <td>1.424363</td>\n",
       "      <td>1.724738</td>\n",
       "      <td>1.724738</td>\n",
       "      <td>1.724738</td>\n",
       "      <td>1.724738</td>\n",
       "      <td>1.999413</td>\n",
       "    </tr>\n",
       "    <tr>\n",
       "      <th>2</th>\n",
       "      <td>2020-04-02</td>\n",
       "      <td>19115</td>\n",
       "      <td>PL</td>\n",
       "      <td>26.912006</td>\n",
       "      <td>32.943050</td>\n",
       "      <td>66.787497</td>\n",
       "      <td>70.071922</td>\n",
       "      <td>71.644023</td>\n",
       "      <td>72.057026</td>\n",
       "    </tr>\n",
       "    <tr>\n",
       "      <th>3</th>\n",
       "      <td>2020-04-15</td>\n",
       "      <td>788948</td>\n",
       "      <td>MD</td>\n",
       "      <td>0.000000</td>\n",
       "      <td>0.000000</td>\n",
       "      <td>0.000000</td>\n",
       "      <td>0.000000</td>\n",
       "      <td>0.000000</td>\n",
       "      <td>0.000000</td>\n",
       "    </tr>\n",
       "    <tr>\n",
       "      <th>4</th>\n",
       "      <td>2020-03-26</td>\n",
       "      <td>158583</td>\n",
       "      <td>DE</td>\n",
       "      <td>0.349793</td>\n",
       "      <td>0.349793</td>\n",
       "      <td>0.349793</td>\n",
       "      <td>0.349793</td>\n",
       "      <td>0.349793</td>\n",
       "      <td>0.349793</td>\n",
       "    </tr>\n",
       "  </tbody>\n",
       "</table>\n",
       "</div>"
      ],
      "text/plain": [
       "  Install_Dates  campaign_id Country     1d_LTV     3d_LTV     7d_LTV  \\\n",
       "0    2020-04-14        90570      CZ   7.721194   8.104811  10.209480   \n",
       "1    2020-03-30        90262      CA   1.424363   1.724738   1.724738   \n",
       "2    2020-04-02        19115      PL  26.912006  32.943050  66.787497   \n",
       "3    2020-04-15       788948      MD   0.000000   0.000000   0.000000   \n",
       "4    2020-03-26       158583      DE   0.349793   0.349793   0.349793   \n",
       "\n",
       "     14d_LTV    30d_LTV    60d_LTV  \n",
       "0  11.845200  15.349594  15.768420  \n",
       "1   1.724738   1.724738   1.999413  \n",
       "2  70.071922  71.644023  72.057026  \n",
       "3   0.000000   0.000000   0.000000  \n",
       "4   0.349793   0.349793   0.349793  "
      ]
     },
     "execution_count": 25,
     "metadata": {},
     "output_type": "execute_result"
    }
   ],
   "source": [
    "revenue.head()"
   ]
  },
  {
   "cell_type": "code",
   "execution_count": 26,
   "id": "3d7b61b4",
   "metadata": {
    "scrolled": true
   },
   "outputs": [
    {
     "name": "stdout",
     "output_type": "stream",
     "text": [
      "<class 'pandas.core.frame.DataFrame'>\n",
      "RangeIndex: 9934 entries, 0 to 9933\n",
      "Data columns (total 9 columns):\n",
      " #   Column         Non-Null Count  Dtype  \n",
      "---  ------         --------------  -----  \n",
      " 0   Install_Dates  9934 non-null   object \n",
      " 1   campaign_id    9934 non-null   int64  \n",
      " 2   Country        9928 non-null   object \n",
      " 3   1d_LTV         9934 non-null   float64\n",
      " 4   3d_LTV         9934 non-null   float64\n",
      " 5   7d_LTV         9934 non-null   float64\n",
      " 6   14d_LTV        9934 non-null   float64\n",
      " 7   30d_LTV        9934 non-null   float64\n",
      " 8   60d_LTV        9934 non-null   float64\n",
      "dtypes: float64(6), int64(1), object(2)\n",
      "memory usage: 698.6+ KB\n"
     ]
    }
   ],
   "source": [
    "revenue.info()"
   ]
  },
  {
   "cell_type": "code",
   "execution_count": 27,
   "id": "59aa14d1",
   "metadata": {
    "scrolled": true
   },
   "outputs": [],
   "source": [
    "effect = costs.merge(revenue, on=['Install_Dates', 'campaign_id', 'Country'])"
   ]
  },
  {
   "cell_type": "code",
   "execution_count": 28,
   "id": "4787d7ad",
   "metadata": {
    "scrolled": true
   },
   "outputs": [],
   "source": [
    "# Альтернативный вариант - джойнить\n",
    "#effectt = costs.set_index(['Install_Dates', 'campaign_id', 'Country']).join(\n",
    "#    revenue.set_index(['Install_Dates', 'campaign_id', 'Country']))"
   ]
  },
  {
   "cell_type": "code",
   "execution_count": 29,
   "id": "195882ae",
   "metadata": {
    "scrolled": true
   },
   "outputs": [],
   "source": [
    "# Рассчитаем ROAS\n",
    "effect['Roas'] = effect['60d_LTV']/effect['spends']*100"
   ]
  },
  {
   "cell_type": "code",
   "execution_count": 30,
   "id": "a1571655",
   "metadata": {
    "scrolled": true
   },
   "outputs": [
    {
     "data": {
      "image/png": "[encoded data removed]",
      "text/plain": [
       "<Figure size 640x480 with 1 Axes>"
      ]
     },
     "metadata": {},
     "output_type": "display_data"
    }
   ],
   "source": [
    "# Пострим график зависимости spends от ROAS\n",
    "sns.scatterplot(x=effect.spends, y=effect.Roas)\n",
    "plt.show()"
   ]
  },
  {
   "cell_type": "code",
   "execution_count": 31,
   "id": "fa1925c1",
   "metadata": {
    "scrolled": true
   },
   "outputs": [],
   "source": [
    "# На графике длинные хвосты и выбросы, основная часть данных сконцентроирована в одном месте\n",
    "# Зависимость сложная, будем решать с помощью ансамбля алгоритмов"
   ]
  },
  {
   "cell_type": "code",
   "execution_count": 32,
   "id": "44edf939",
   "metadata": {
    "scrolled": true
   },
   "outputs": [],
   "source": [
    "# Отберем безубыточные кампании, по которым есть информация на 60й день\n",
    "effect_plus = effect.loc[(effect['60d_LTV'] >= 0)]"
   ]
  },
  {
   "cell_type": "code",
   "execution_count": 33,
   "id": "2a7a0307",
   "metadata": {
    "scrolled": true
   },
   "outputs": [],
   "source": [
    "# Импортируем библиотеки для построения модели\n",
    "# Возьмём \"Случайный лес\", т.к.:\n",
    "# 1. Хорошо распараллеливается\n",
    "# 2. Для нелинейной зависимости\n",
    "# 3. Хорошо справляется с выбросами\n",
    "# 4. Решает проблему дисперсии\n",
    "# Пункты 3 и 4 особенно актуальны для данной задачи, много выбросов и хвосты на графиках,\n",
    "# так же визуально виден большой разброс данных\n",
    "\n",
    "from sklearn.ensemble import RandomForestRegressor\n",
    "from sklearn.model_selection import train_test_split\n",
    "from sklearn.metrics import mean_absolute_error\n",
    "\n",
    "RAND=10\n",
    "\n",
    "X = pd.DataFrame(effect_plus.spends)\n",
    "y = pd.DataFrame(effect_plus.Roas)\n",
    "\n",
    "X_train, X_test, y_train, y_test = train_test_split(\n",
    "    X, y, test_size=0.2, shuffle=True, random_state=RAND)\n",
    "\n",
    "X_train_, X_val, y_train_, y_val = train_test_split(X_train,\n",
    "                                                    y_train,\n",
    "                                                    test_size=0.2,\n",
    "                                                    shuffle=True,\n",
    "                                                    random_state=RAND)"
   ]
  },
  {
   "cell_type": "code",
   "execution_count": 34,
   "id": "60541142",
   "metadata": {
    "scrolled": true
   },
   "outputs": [],
   "source": [
    "# Универасльаная функция для проверки моделей на переобучение\n",
    "\n",
    "def check_overfitting(model, X_train, y_train, X_test, y_test, metric_fun):\n",
    "    \"\"\"\n",
    "    Проверка на overfitting для регрессии\n",
    "    \"\"\"\n",
    "    y_pred_train = model.predict(X_train)\n",
    "    y_pred_test = model.predict(X_test)\n",
    "    value_train = metric_fun(y_train, y_pred_train)\n",
    "    value_test = metric_fun(y_test, y_pred_test)\n",
    "\n",
    "    print(f'{metric_fun.__name__} train: %.3f' % value_train)\n",
    "    print(f'{metric_fun.__name__} test: %.3f' % value_test)\n",
    "    print(f'delta = {(abs(value_train - value_test)/value_test*100):.1f} %')"
   ]
  },
  {
   "cell_type": "code",
   "execution_count": 35,
   "id": "8501e03d",
   "metadata": {
    "scrolled": true
   },
   "outputs": [
    {
     "name": "stdout",
     "output_type": "stream",
     "text": [
      "mean_absolute_error train: 134.865\n",
      "mean_absolute_error test: 134.813\n",
      "delta = 0.0 %\n"
     ]
    }
   ],
   "source": [
    "# Обучим модель, возьмем в качестве критерия устойчивую к выбросам среднюю абсолютную ошибку\n",
    "\n",
    "rf = RandomForestRegressor(n_estimators = 50, max_depth=8, random_state=RAND, n_jobs=-1, criterion='absolute_error')\n",
    "\n",
    "rf.fit(X_train, y_train)\n",
    "check_overfitting(rf,\n",
    "                  X_train_,\n",
    "                  y_train_,\n",
    "                  X_test,\n",
    "                  y_test,\n",
    "                  metric_fun=mean_absolute_error)"
   ]
  },
  {
   "cell_type": "markdown",
   "id": "3eb5fa90",
   "metadata": {},
   "source": [
    "Получили практически идельную модель, непереобученную, которая хорошо предсказывает значение ROAS в зависимости от поданной на вход суммы spends."
   ]
  },
  {
   "cell_type": "code",
   "execution_count": 36,
   "id": "233de90b",
   "metadata": {
    "scrolled": false
   },
   "outputs": [
    {
     "data": {
      "image/png": "[encoded data removed]",
      "text/plain": [
       "<Figure size 640x480 with 1 Axes>"
      ]
     },
     "metadata": {},
     "output_type": "display_data"
    }
   ],
   "source": [
    "sns.scatterplot(x=effect_plus.spends, y=effect_plus.Roas)\n",
    "\n",
    "# Для наглядности приблизим график с наибольшим скоплением данных\n",
    "plt.ylim(0, 2000)\n",
    "plt.xlim(0, 150)\n",
    "plt.show()"
   ]
  },
  {
   "cell_type": "markdown",
   "id": "7d278575",
   "metadata": {},
   "source": [
    "График можно разделить примерно на 3 участка:<br>\n",
    "    1. spends в интервале примерно[0,3] Здесь величина ROAS не зависит от суммы расходов, и может достигать более чем 800%. Трудно предсказать результат, он обусловлен случайностью.<br>\n",
    "    2. spends в интервале примерно [3,80]. Здесь можно предположить только максимально возможное значение ROAS, т.к. данные расположены хаотично.<br>\n",
    "    3. spends более 80. Независимо от суммы расходов, ROAS не превысит примерно 200-250%. Конкретный результат обусловлен случайностью.\n",
    "<br>    \n",
    "Таким образом, сумма расходов должна рассчитываться из максимально ожидаемого, необходимого ROAS."
   ]
  },
  {
   "cell_type": "code",
   "execution_count": 37,
   "id": "bedf82b1",
   "metadata": {
    "scrolled": true
   },
   "outputs": [
    {
     "data": {
      "image/png": "[encoded data removed]",
      "text/plain": [
       "<Figure size 640x480 with 1 Axes>"
      ]
     },
     "metadata": {},
     "output_type": "display_data"
    }
   ],
   "source": [
    "# Рассмотрим более подробно значения на боксплоте\n",
    "sns.boxplot(x='Roas', data=effect_plus)\n",
    "plt.xlim(0, 600)\n",
    "plt.show()"
   ]
  },
  {
   "cell_type": "code",
   "execution_count": 38,
   "id": "fdb771c2",
   "metadata": {
    "scrolled": true
   },
   "outputs": [
    {
     "data": {
      "image/png": "[encoded data removed]",
      "text/plain": [
       "<Figure size 640x480 with 1 Axes>"
      ]
     },
     "metadata": {},
     "output_type": "display_data"
    }
   ],
   "source": [
    "sns.boxplot(x='spends', data=effect_plus)\n",
    "plt.xlim(-1, 80)\n",
    "plt.show()"
   ]
  },
  {
   "cell_type": "markdown",
   "id": "bc531449",
   "metadata": {},
   "source": [
    "Медианное значение ROAS около 90% говорит о том, что примерно половина рекламных кампаний неэффективны. В то же время, для остальных кампаний  ROAS достигает 600% и более. Для эффективных кампаний ROAS чаще всего (около 20% всех кампаний) составлет 100-180%. Более высокие значения ROAS по эффективным кампаниям распределены неравномерно.\n",
    "Сумма расходов в 75% случаев достигает 15. Более высокие суммы распределены так же неравномерно. <br>\n",
    "Размах ROAS шире, чем spends, что может говорить о слабой зависимости эффекта кампании от расходов.\n",
    "Исследуем далее."
   ]
  },
  {
   "cell_type": "code",
   "execution_count": 39,
   "id": "10e8a920",
   "metadata": {
    "scrolled": true
   },
   "outputs": [
    {
     "data": {
      "image/png": "[encoded data removed]",
      "text/plain": [
       "<Figure size 599.25x500 with 1 Axes>"
      ]
     },
     "metadata": {},
     "output_type": "display_data"
    }
   ],
   "source": [
    "sns.displot({\n",
    "        \"ROAS\": effect_plus.Roas,\n",
    "        \"spends\": effect_plus.spends\n",
    "    },\n",
    "    common_norm=False,\n",
    "    kind=\"kde\",\n",
    "    height=5)\n",
    "plt.xlim(0, 500)\n",
    "plt.ylim(0, 0.03)\n",
    "plt.show()"
   ]
  },
  {
   "cell_type": "markdown",
   "id": "baa857b4",
   "metadata": {},
   "source": [
    "Плотности вероятностей  ROAS и spends так же распределены неравномерно, у spends распределение Пуассона. Сложно сказать про зависимость."
   ]
  },
  {
   "cell_type": "code",
   "execution_count": 40,
   "id": "6ffb1a12",
   "metadata": {
    "scrolled": true
   },
   "outputs": [
    {
     "data": {
      "image/png": "[encoded data removed]",
      "text/plain": [
       "<Figure size 640x480 with 1 Axes>"
      ]
     },
     "metadata": {},
     "output_type": "display_data"
    }
   ],
   "source": [
    "# Посмотрим на влияние исходов конкретных рекламных кампаний\n",
    "from mpl_toolkits.mplot3d import Axes3D\n",
    "\n",
    "x = effect_plus.Roas\n",
    "y = effect_plus.spends\n",
    "z = pd.DataFrame(effect_plus['campaign_id'])\n",
    "\n",
    "def plot3d(x, y, z):\n",
    "    fig = plt.figure()\n",
    "    ax = fig.add_subplot(111, projection='3d')\n",
    "    ax.plot_surface(x, y, z)\n",
    "    plt.show()\n",
    "    \n",
    "p = multiprocessing.Process(target=plot3d(x, y, z))\n",
    "p.start()"
   ]
  },
  {
   "cell_type": "markdown",
   "id": "0960c7b9",
   "metadata": {},
   "source": [
    "Данное представление говорит о том, что много неэффективных рекламных компаний, по которым расходы достигали примерно 300, а ROAS оставался в окрестности 0. Эффективные кампании можно разделить на 4 группы. Необходим более детальный анализ причин как всплесков эффективности рекламных кампаний, так и причин отсутсвия эффекта.\n",
    "<br> Одинаковым суммам расходов соответствуют разные суммы ROAS. Однако, разброс ROAS для каждой суммы расходов уменьшается по мере роста расходов. То есть, по мере роста расходов, уменьшается не ROAS, а максимальный ROAS, на который можно рассчитывать и легче спрогнозировать."
   ]
  },
  {
   "cell_type": "code",
   "execution_count": 41,
   "id": "a3323d23",
   "metadata": {
    "scrolled": true
   },
   "outputs": [
    {
     "name": "stdout",
     "output_type": "stream",
     "text": [
      "mean_absolute_error train: 173.339\n",
      "mean_absolute_error test: 173.289\n",
      "delta = 0.0 %\n"
     ]
    }
   ],
   "source": [
    "# Рассмотрим метрический алгоритм\n",
    "\n",
    "from sklearn.neighbors import KNeighborsRegressor\n",
    "from sklearn.preprocessing import MinMaxScaler\n",
    "\n",
    "sosed = KNeighborsRegressor(n_neighbors=4)\n",
    "sc = MinMaxScaler()\n",
    "\n",
    "X_train_std = sc.fit_transform(X_train)\n",
    "X_train_std_ = sc.fit_transform(X_train_)\n",
    "X_test_std = sc.transform(X_test)\n",
    "\n",
    "\n",
    "sosed.fit(X_train_std, y_train)\n",
    "check_overfitting(sosed,\n",
    "                  X_train_std_,\n",
    "                  y_train_,\n",
    "                  X_test_std,\n",
    "                  y_test,\n",
    "                  metric_fun=mean_absolute_error)"
   ]
  },
  {
   "cell_type": "markdown",
   "id": "cc613124",
   "metadata": {},
   "source": [
    "У метода ближайших соседей выше ошибка, чем у случайного леса, но здесь можно интерпретировать, что для каждой суммы расходов можно предсказать средний ожидаемый ROAS по четырём ближайшим суммам."
   ]
  },
  {
   "cell_type": "code",
   "execution_count": 42,
   "id": "84d5a10e",
   "metadata": {
    "scrolled": true
   },
   "outputs": [
    {
     "data": {
      "text/plain": [
       "SignificanceResult(statistic=0.1912687179813937, pvalue=1.0878811348455314e-82)"
      ]
     },
     "execution_count": 42,
     "metadata": {},
     "output_type": "execute_result"
    }
   ],
   "source": [
    "# Так как распределение данных ненормальное, применим непараметрические методы для проверки гиоптезы Н0 о том,\n",
    "# что между COST и ROAS нет зависимости\n",
    "stats.kendalltau(effect_plus['Roas'], effect_plus['spends'])"
   ]
  },
  {
   "cell_type": "code",
   "execution_count": 43,
   "id": "9571a472",
   "metadata": {
    "scrolled": true
   },
   "outputs": [
    {
     "data": {
      "text/plain": [
       "SignificanceResult(statistic=0.2785169415391974, pvalue=2.463465692676719e-82)"
      ]
     },
     "execution_count": 43,
     "metadata": {},
     "output_type": "execute_result"
    }
   ],
   "source": [
    "stats.spearmanr(effect_plus['Roas'], effect_plus['spends'])"
   ]
  },
  {
   "cell_type": "markdown",
   "id": "c284907d",
   "metadata": {},
   "source": [
    "pvalue меньше уровня значимости 0,05, что говорит о значимости расчетов, но максимальное значение критериев достигает 0,28, что говорит об очень слабой связи, или её отсутсвии между признаками.\n",
    "Не принимаем H0.<br>\n",
    "Вывод: <b> Принимаем гитпотезу H1: между расходами и ROAS нет значимой связи, результат обусловлен случайностью или вероятностью. <br> <i><br>Но чем больше расходы, тем меньше максимльно возможное значение ROAS. </i><br>Дополнительно можно выделить моменты:<br></b>\n",
    "    1. Если сумма расходов от 0 до 3, то величина ROAS не зависит от суммы расходов, и может достигать более чем 800%. Трудно предсказать результат, обусловлено случайностью. <br>\n",
    "    2. Если сумма расходов от 3 до 80, то можно предположить только максимально возможное значение ROAS, т.к. данные распложены хаотично. Как вариант, использовать модели машинного обучения.<br>\n",
    "    3. Если сумма расходов более 80, то независимо от суммы расходов, ROAS не превысит примерно 200-250%. Конкретный результат обусловлен случайностью или вероятностью. Так же можно использовать вероятностный подход, в том числе в машинном обучении.\n",
    "<br>    \n",
    "Таким образом, сумма расходов должна рассчитываться из максимально ожидаемного, необходимого ROAS, необходим вероятностный подход. <br>\n",
    "Так же можно рассчитать ROAS для каждой суммы расходов при помощи использованной модели \"Слуйчаный лес\"."
   ]
  },
  {
   "cell_type": "markdown",
   "id": "89b2ae96",
   "metadata": {},
   "source": [
    "# 4.2 По каждой рекламной кампании рассчитайте суточный рекламный бюджет, который максимизирует абсолютную маркетинговую прибыль рекламной кампании (REVENUE 60 дня минус COST)"
   ]
  },
  {
   "cell_type": "code",
   "execution_count": 44,
   "id": "4b92ed88",
   "metadata": {
    "scrolled": true
   },
   "outputs": [],
   "source": [
    "effect_plus['income'] = effect_plus['60d_LTV'] - effect_plus['spends']"
   ]
  },
  {
   "cell_type": "code",
   "execution_count": 45,
   "id": "3c8aeb44",
   "metadata": {
    "scrolled": true
   },
   "outputs": [],
   "source": [
    "day_cost = effect_plus.groupby(['campaign_id', 'Install_Dates']).agg({\n",
    "    'spends':\n",
    "    'sum',\n",
    "    'income':\n",
    "    'sum'\n",
    "})"
   ]
  },
  {
   "cell_type": "code",
   "execution_count": 46,
   "id": "e3cd59ec",
   "metadata": {
    "scrolled": true
   },
   "outputs": [],
   "source": [
    "idx = day_cost.groupby('campaign_id')['income'].idxmax()\n",
    "max_dailyincome = day_cost.loc[idx].reset_index()\n",
    "# Результат в таблице, где максимально возможной суточной прибыли соответствует сумма расходов"
   ]
  },
  {
   "cell_type": "markdown",
   "id": "949afb99",
   "metadata": {},
   "source": [
    "# 4.3 Исходя из пункта 2 по каждой рекламной кампании дайте ваше заключение о том насколько нужно увеличить / уменьшить ее суточный бюджет либо вообще остановить."
   ]
  },
  {
   "cell_type": "markdown",
   "id": "f666ef77",
   "metadata": {},
   "source": [
    "Так как нет функции зависмости между доходами и расходми на рекламную кампанию, выполним расчеты по таблицам и графикам."
   ]
  },
  {
   "cell_type": "code",
   "execution_count": 47,
   "id": "238e097f",
   "metadata": {
    "scrolled": true
   },
   "outputs": [],
   "source": [
    "# Отберем безубыточные акции\n",
    "max_dailyincome_plus = max_dailyincome.loc[(max_dailyincome['income'] > 0)]"
   ]
  },
  {
   "cell_type": "code",
   "execution_count": 48,
   "id": "189e8618",
   "metadata": {
    "scrolled": true
   },
   "outputs": [
    {
     "data": {
      "image/png": "[encoded data removed]",
      "text/plain": [
       "<Figure size 640x480 with 1 Axes>"
      ]
     },
     "metadata": {},
     "output_type": "display_data"
    }
   ],
   "source": [
    "sns.scatterplot(x=max_dailyincome_plus.spends, y=max_dailyincome_plus.income)\n",
    "\n",
    "# Для наглядности приблизим график\n",
    "plt.ylim(0, 100)\n",
    "plt.xlim(0, 60)\n",
    "plt.show()"
   ]
  },
  {
   "cell_type": "code",
   "execution_count": 49,
   "id": "1392bcd5",
   "metadata": {
    "scrolled": true
   },
   "outputs": [
    {
     "data": {
      "image/png": "[encoded data removed]",
      "text/plain": [
       "<Figure size 640x480 with 1 Axes>"
      ]
     },
     "metadata": {},
     "output_type": "display_data"
    }
   ],
   "source": [
    "sns.boxplot(x='income', data=max_dailyincome_plus)\n",
    "plt.xlim(-1, 100)\n",
    "plt.show()"
   ]
  },
  {
   "cell_type": "code",
   "execution_count": 50,
   "id": "dd8af4b6",
   "metadata": {
    "scrolled": true
   },
   "outputs": [
    {
     "data": {
      "image/png": "[encoded data removed]",
      "text/plain": [
       "<Figure size 640x480 with 1 Axes>"
      ]
     },
     "metadata": {},
     "output_type": "display_data"
    }
   ],
   "source": [
    "sns.boxplot(x='spends', data=max_dailyincome_plus)\n",
    "plt.xlim(-1, 80)\n",
    "plt.show()"
   ]
  },
  {
   "cell_type": "code",
   "execution_count": 51,
   "id": "42eb5a0e",
   "metadata": {
    "scrolled": true
   },
   "outputs": [
    {
     "name": "stdout",
     "output_type": "stream",
     "text": [
      "<class 'pandas.core.frame.DataFrame'>\n",
      "Int64Index: 27 entries, 14 to 200\n",
      "Data columns (total 4 columns):\n",
      " #   Column         Non-Null Count  Dtype  \n",
      "---  ------         --------------  -----  \n",
      " 0   campaign_id    27 non-null     int64  \n",
      " 1   Install_Dates  27 non-null     object \n",
      " 2   spends         27 non-null     float64\n",
      " 3   income         27 non-null     float64\n",
      "dtypes: float64(2), int64(1), object(1)\n",
      "memory usage: 1.1+ KB\n"
     ]
    }
   ],
   "source": [
    "# Отберем убыточные акции, посчитаем количество\n",
    "max_dailyincome_min = max_dailyincome.loc[(max_dailyincome['income'] <= 0)]\n",
    "max_dailyincome_min.info()"
   ]
  },
  {
   "cell_type": "code",
   "execution_count": 52,
   "id": "8233136a",
   "metadata": {
    "scrolled": true
   },
   "outputs": [
    {
     "data": {
      "image/png": "[encoded data removed]",
      "text/plain": [
       "<Figure size 640x480 with 1 Axes>"
      ]
     },
     "metadata": {},
     "output_type": "display_data"
    }
   ],
   "source": [
    "sns.boxplot(x='spends', data=max_dailyincome_min)\n",
    "plt.xlim(-1, 4)\n",
    "plt.show()"
   ]
  },
  {
   "cell_type": "code",
   "execution_count": 53,
   "id": "b13db9a3",
   "metadata": {
    "scrolled": true
   },
   "outputs": [
    {
     "data": {
      "image/png": "[encoded data removed]",
      "text/plain": [
       "<Figure size 640x480 with 1 Axes>"
      ]
     },
     "metadata": {},
     "output_type": "display_data"
    }
   ],
   "source": [
    "sns.boxplot(x='income', data=max_dailyincome_min)\n",
    "plt.xlim(-3, 0)\n",
    "plt.show()"
   ]
  },
  {
   "cell_type": "markdown",
   "id": "49626759",
   "metadata": {},
   "source": [
    "Для 75% рекламных кампаний сумма дохода не превышает примерно 50. Явной зависимости между доходами и расходами нет. Рекомендуется, чтобы расходы не превышали 30, т.к. при росте доходов вероятность роста прибыли не меняется. Некритично, если нет возможности сократить расходы, так как убытка нет и вероятность получения конкретной суммы прибыли не изменится.<br>\n",
    "По убыточным кампаниям рекомендуется увеличить сумму расходов до 3, т.к. от этой суммы и больше не наблюдается убытков."
   ]
  },
  {
   "cell_type": "markdown",
   "id": "57a47139",
   "metadata": {},
   "source": [
    "# 4.4 Решите проблему рекламных кампаний по которым еще нет полных 60 дней. Объясните почему ваше решение оптимально"
   ]
  },
  {
   "cell_type": "markdown",
   "id": "b6cf1c05",
   "metadata": {},
   "source": [
    "Отсутсвтующие значения для 60го дня можно предсказать, напрмер, с помощью линейной регрессии или регрессии случайный лес, ранее применимый к задаче 4.1."
   ]
  },
  {
   "cell_type": "code",
   "execution_count": 54,
   "id": "641983a1",
   "metadata": {
    "scrolled": true
   },
   "outputs": [
    {
     "data": {
      "text/html": [
       "<div>\n",
       "<style scoped>\n",
       "    .dataframe tbody tr th:only-of-type {\n",
       "        vertical-align: middle;\n",
       "    }\n",
       "\n",
       "    .dataframe tbody tr th {\n",
       "        vertical-align: top;\n",
       "    }\n",
       "\n",
       "    .dataframe thead th {\n",
       "        text-align: right;\n",
       "    }\n",
       "</style>\n",
       "<table border=\"1\" class=\"dataframe\">\n",
       "  <thead>\n",
       "    <tr style=\"text-align: right;\">\n",
       "      <th></th>\n",
       "      <th>1d_LTV</th>\n",
       "      <th>3d_LTV</th>\n",
       "      <th>7d_LTV</th>\n",
       "      <th>14d_LTV</th>\n",
       "      <th>30d_LTV</th>\n",
       "      <th>60d_LTV</th>\n",
       "    </tr>\n",
       "  </thead>\n",
       "  <tbody>\n",
       "    <tr>\n",
       "      <th>0</th>\n",
       "      <td>7.721194</td>\n",
       "      <td>8.104811</td>\n",
       "      <td>10.209480</td>\n",
       "      <td>11.845200</td>\n",
       "      <td>15.349594</td>\n",
       "      <td>15.768420</td>\n",
       "    </tr>\n",
       "    <tr>\n",
       "      <th>4</th>\n",
       "      <td>0.833442</td>\n",
       "      <td>0.833442</td>\n",
       "      <td>1.103046</td>\n",
       "      <td>1.167516</td>\n",
       "      <td>1.398647</td>\n",
       "      <td>1.416652</td>\n",
       "    </tr>\n",
       "    <tr>\n",
       "      <th>5</th>\n",
       "      <td>23.334978</td>\n",
       "      <td>39.280069</td>\n",
       "      <td>70.472199</td>\n",
       "      <td>77.112504</td>\n",
       "      <td>81.351981</td>\n",
       "      <td>84.733974</td>\n",
       "    </tr>\n",
       "    <tr>\n",
       "      <th>9</th>\n",
       "      <td>15.139952</td>\n",
       "      <td>18.056867</td>\n",
       "      <td>24.705458</td>\n",
       "      <td>30.279938</td>\n",
       "      <td>35.928758</td>\n",
       "      <td>43.839157</td>\n",
       "    </tr>\n",
       "    <tr>\n",
       "      <th>12</th>\n",
       "      <td>28.480374</td>\n",
       "      <td>34.615409</td>\n",
       "      <td>38.474778</td>\n",
       "      <td>40.865311</td>\n",
       "      <td>42.755548</td>\n",
       "      <td>45.331513</td>\n",
       "    </tr>\n",
       "    <tr>\n",
       "      <th>...</th>\n",
       "      <td>...</td>\n",
       "      <td>...</td>\n",
       "      <td>...</td>\n",
       "      <td>...</td>\n",
       "      <td>...</td>\n",
       "      <td>...</td>\n",
       "    </tr>\n",
       "    <tr>\n",
       "      <th>10198</th>\n",
       "      <td>0.277444</td>\n",
       "      <td>0.277444</td>\n",
       "      <td>0.277444</td>\n",
       "      <td>0.277444</td>\n",
       "      <td>0.277444</td>\n",
       "      <td>0.277444</td>\n",
       "    </tr>\n",
       "    <tr>\n",
       "      <th>10199</th>\n",
       "      <td>0.041716</td>\n",
       "      <td>0.041716</td>\n",
       "      <td>0.051738</td>\n",
       "      <td>0.060986</td>\n",
       "      <td>0.060986</td>\n",
       "      <td>0.060986</td>\n",
       "    </tr>\n",
       "    <tr>\n",
       "      <th>10201</th>\n",
       "      <td>0.000000</td>\n",
       "      <td>0.000000</td>\n",
       "      <td>0.000000</td>\n",
       "      <td>0.000000</td>\n",
       "      <td>0.000000</td>\n",
       "      <td>0.000000</td>\n",
       "    </tr>\n",
       "    <tr>\n",
       "      <th>10203</th>\n",
       "      <td>0.351962</td>\n",
       "      <td>0.351962</td>\n",
       "      <td>0.386234</td>\n",
       "      <td>0.448579</td>\n",
       "      <td>0.564261</td>\n",
       "      <td>0.693104</td>\n",
       "    </tr>\n",
       "    <tr>\n",
       "      <th>10204</th>\n",
       "      <td>47.323662</td>\n",
       "      <td>56.483875</td>\n",
       "      <td>65.396237</td>\n",
       "      <td>75.178386</td>\n",
       "      <td>85.603100</td>\n",
       "      <td>92.690140</td>\n",
       "    </tr>\n",
       "  </tbody>\n",
       "</table>\n",
       "<p>4578 rows × 6 columns</p>\n",
       "</div>"
      ],
      "text/plain": [
       "          1d_LTV     3d_LTV     7d_LTV    14d_LTV    30d_LTV    60d_LTV\n",
       "0       7.721194   8.104811  10.209480  11.845200  15.349594  15.768420\n",
       "4       0.833442   0.833442   1.103046   1.167516   1.398647   1.416652\n",
       "5      23.334978  39.280069  70.472199  77.112504  81.351981  84.733974\n",
       "9      15.139952  18.056867  24.705458  30.279938  35.928758  43.839157\n",
       "12     28.480374  34.615409  38.474778  40.865311  42.755548  45.331513\n",
       "...          ...        ...        ...        ...        ...        ...\n",
       "10198   0.277444   0.277444   0.277444   0.277444   0.277444   0.277444\n",
       "10199   0.041716   0.041716   0.051738   0.060986   0.060986   0.060986\n",
       "10201   0.000000   0.000000   0.000000   0.000000   0.000000   0.000000\n",
       "10203   0.351962   0.351962   0.386234   0.448579   0.564261   0.693104\n",
       "10204  47.323662  56.483875  65.396237  75.178386  85.603100  92.690140\n",
       "\n",
       "[4578 rows x 6 columns]"
      ]
     },
     "execution_count": 54,
     "metadata": {},
     "output_type": "execute_result"
    }
   ],
   "source": [
    "# Отберем объекты, по которым есть информация на 60й день\n",
    "effect_ = effect.loc[(effect['60d_LTV'] >= 0)]\n",
    "effect_ = effect_.drop(columns=['Install_Dates', 'campaign_id', 'Country', 'installs', 'spends', 'Roas'])\n",
    "effect_"
   ]
  },
  {
   "cell_type": "code",
   "execution_count": 55,
   "id": "c6a534a3",
   "metadata": {
    "scrolled": true
   },
   "outputs": [
    {
     "data": {
      "text/plain": [
       "0.33725059032440186"
      ]
     },
     "execution_count": 55,
     "metadata": {},
     "output_type": "execute_result"
    }
   ],
   "source": [
    "# Проверим распределение целевой переменной на возможность применения линейной регрессии\n",
    "stats.shapiro(effect_['60d_LTV']).statistic"
   ]
  },
  {
   "cell_type": "markdown",
   "id": "387f7ec4",
   "metadata": {},
   "source": [
    "Критерий выше 0,05, распределение близко к нормальному. Можем применить линейную регрессию."
   ]
  },
  {
   "cell_type": "code",
   "execution_count": 56,
   "id": "9b374b8f",
   "metadata": {
    "scrolled": true
   },
   "outputs": [
    {
     "data": {
      "image/png": "[encoded data removed]",
      "text/plain": [
       "<Figure size 640x480 with 1 Axes>"
      ]
     },
     "metadata": {},
     "output_type": "display_data"
    }
   ],
   "source": [
    "sns.boxplot(effect_['60d_LTV'])\n",
    "plt.ylim(-1, 50)\n",
    "plt.show()"
   ]
  },
  {
   "cell_type": "code",
   "execution_count": 57,
   "id": "183e7ae0",
   "metadata": {
    "scrolled": true
   },
   "outputs": [],
   "source": [
    "X = effect_.drop(columns=['60d_LTV'],\n",
    "            axis=1)\n",
    "\n",
    "y = effect_['60d_LTV']"
   ]
  },
  {
   "cell_type": "code",
   "execution_count": 58,
   "id": "ed4ff578",
   "metadata": {
    "scrolled": true
   },
   "outputs": [],
   "source": [
    "X_train, X_test, y_train, y_test = train_test_split(\n",
    "    X, y, test_size=0.2, shuffle=True, random_state=RAND)"
   ]
  },
  {
   "cell_type": "code",
   "execution_count": 59,
   "id": "060646d5",
   "metadata": {
    "scrolled": true
   },
   "outputs": [
    {
     "name": "stdout",
     "output_type": "stream",
     "text": [
      "mean_absolute_error train: 1.792\n",
      "mean_absolute_error test: 1.758\n",
      "delta = 1.9 %\n"
     ]
    }
   ],
   "source": [
    "# Обучим модели, возьмем в качестве критерия устойчивую к выбросам среднюю абсолютную ошибку\n",
    "\n",
    "rf2 = RandomForestRegressor(n_estimators = 200, max_depth=4, random_state=RAND, n_jobs=-1, criterion='absolute_error')\n",
    "rf2.fit(X_train, y_train)\n",
    "check_overfitting(rf2,\n",
    "                  X_train,\n",
    "                  y_train,\n",
    "                  X_test,\n",
    "                  y_test,\n",
    "                  metric_fun=mean_absolute_error)"
   ]
  },
  {
   "cell_type": "code",
   "execution_count": 60,
   "id": "f4ccbbab",
   "metadata": {
    "scrolled": true
   },
   "outputs": [
    {
     "name": "stdout",
     "output_type": "stream",
     "text": [
      "mean_absolute_error train: 1.264\n",
      "mean_absolute_error test: 1.221\n",
      "delta = 3.6 %\n"
     ]
    }
   ],
   "source": [
    "from sklearn.linear_model import LinearRegression\n",
    "from sklearn.preprocessing import StandardScaler\n",
    "\n",
    "lr = LinearRegression()\n",
    "\n",
    "lr.fit(X_train, y_train)\n",
    "check_overfitting(lr,\n",
    "                  X_train,\n",
    "                  y_train,\n",
    "                  X_test,\n",
    "                  y_test,\n",
    "                  metric_fun=mean_absolute_error)"
   ]
  },
  {
   "cell_type": "markdown",
   "id": "132b3162",
   "metadata": {},
   "source": [
    "В целом, можно использовать любой из алгоритмов - \"Слуйчайный лес\" или \"Линейная регрессия\", т.к. у линейной регресси, несмотря на переобучение, меньше ошибка и более быстрый алгоритм, но у леса, несмотря на небольшое переобучение, больше ошибка."
   ]
  },
  {
   "cell_type": "code",
   "execution_count": 61,
   "id": "fb259d32",
   "metadata": {
    "scrolled": true
   },
   "outputs": [],
   "source": [
    "pred = effect.loc[(effect['60d_LTV'] == -1)].drop(columns=['Install_Dates', 'campaign_id', 'Country', 'installs', 'spends', 'Roas', '60d_LTV'])\n",
    "lv60 = lr.predict(pred)\n",
    "\n",
    "# Выведем сравнительные описания массивов фактических и предсказанных значений 60го дня\n",
    "# Пандас упорно не хотел принимать таблицы, кроме как завернутые в датафрейм :/\n",
    "lv60 = pd.DataFrame(lv60, columns=['lin_pred'])"
   ]
  },
  {
   "cell_type": "code",
   "execution_count": 62,
   "id": "0d594500",
   "metadata": {
    "scrolled": true
   },
   "outputs": [],
   "source": [
    "a = pd.DataFrame(lv60.describe())\n",
    "b = pd.DataFrame(effect_['60d_LTV'].describe())"
   ]
  },
  {
   "cell_type": "code",
   "execution_count": 63,
   "id": "31921b30",
   "metadata": {
    "scrolled": true
   },
   "outputs": [
    {
     "data": {
      "text/html": [
       "<div>\n",
       "<style scoped>\n",
       "    .dataframe tbody tr th:only-of-type {\n",
       "        vertical-align: middle;\n",
       "    }\n",
       "\n",
       "    .dataframe tbody tr th {\n",
       "        vertical-align: top;\n",
       "    }\n",
       "\n",
       "    .dataframe thead th {\n",
       "        text-align: right;\n",
       "    }\n",
       "</style>\n",
       "<table border=\"1\" class=\"dataframe\">\n",
       "  <thead>\n",
       "    <tr style=\"text-align: right;\">\n",
       "      <th></th>\n",
       "      <th>lin_pred</th>\n",
       "      <th>60d_LTV</th>\n",
       "    </tr>\n",
       "  </thead>\n",
       "  <tbody>\n",
       "    <tr>\n",
       "      <th>count</th>\n",
       "      <td>5628.000000</td>\n",
       "      <td>4578.000000</td>\n",
       "    </tr>\n",
       "    <tr>\n",
       "      <th>mean</th>\n",
       "      <td>17.377744</td>\n",
       "      <td>22.495796</td>\n",
       "    </tr>\n",
       "    <tr>\n",
       "      <th>std</th>\n",
       "      <td>53.657482</td>\n",
       "      <td>66.883108</td>\n",
       "    </tr>\n",
       "    <tr>\n",
       "      <th>min</th>\n",
       "      <td>-0.098190</td>\n",
       "      <td>0.000000</td>\n",
       "    </tr>\n",
       "    <tr>\n",
       "      <th>25%</th>\n",
       "      <td>-0.037914</td>\n",
       "      <td>0.182784</td>\n",
       "    </tr>\n",
       "    <tr>\n",
       "      <th>50%</th>\n",
       "      <td>0.863017</td>\n",
       "      <td>2.181312</td>\n",
       "    </tr>\n",
       "    <tr>\n",
       "      <th>75%</th>\n",
       "      <td>11.120475</td>\n",
       "      <td>17.339793</td>\n",
       "    </tr>\n",
       "    <tr>\n",
       "      <th>max</th>\n",
       "      <td>884.975477</td>\n",
       "      <td>945.104897</td>\n",
       "    </tr>\n",
       "  </tbody>\n",
       "</table>\n",
       "</div>"
      ],
      "text/plain": [
       "          lin_pred      60d_LTV\n",
       "count  5628.000000  4578.000000\n",
       "mean     17.377744    22.495796\n",
       "std      53.657482    66.883108\n",
       "min      -0.098190     0.000000\n",
       "25%      -0.037914     0.182784\n",
       "50%       0.863017     2.181312\n",
       "75%      11.120475    17.339793\n",
       "max     884.975477   945.104897"
      ]
     },
     "execution_count": 63,
     "metadata": {},
     "output_type": "execute_result"
    }
   ],
   "source": [
    "pd.concat([a, b], axis = 1)"
   ]
  },
  {
   "cell_type": "markdown",
   "id": "eff6ffe4",
   "metadata": {},
   "source": [
    "Предсказания линейной регрессии в рамках допустимых значений, без аномалий.\n",
    "Предположительно, сумма прогноза может быть занижена, но в данной задаче лучше допустить, что получим меньше выручки, чем допустить, что получим больше и недополучить. К тому же в датасете с уже имеющимися данными есть выбросы, которые искажают усредненную картину в лучшую сторону."
   ]
  },
  {
   "cell_type": "markdown",
   "id": "eb8e23b9",
   "metadata": {},
   "source": [
    "# 5. Связь рекламного траффика и органического"
   ]
  },
  {
   "cell_type": "code",
   "execution_count": 64,
   "id": "662843b4",
   "metadata": {
    "scrolled": true
   },
   "outputs": [
    {
     "data": {
      "text/html": [
       "<div>\n",
       "<style scoped>\n",
       "    .dataframe tbody tr th:only-of-type {\n",
       "        vertical-align: middle;\n",
       "    }\n",
       "\n",
       "    .dataframe tbody tr th {\n",
       "        vertical-align: top;\n",
       "    }\n",
       "\n",
       "    .dataframe thead th {\n",
       "        text-align: right;\n",
       "    }\n",
       "</style>\n",
       "<table border=\"1\" class=\"dataframe\">\n",
       "  <thead>\n",
       "    <tr style=\"text-align: right;\">\n",
       "      <th></th>\n",
       "      <th>Install_Dates</th>\n",
       "      <th>source_type</th>\n",
       "      <th>Country</th>\n",
       "      <th>installs</th>\n",
       "    </tr>\n",
       "  </thead>\n",
       "  <tbody>\n",
       "    <tr>\n",
       "      <th>0</th>\n",
       "      <td>2020-05-18</td>\n",
       "      <td>Paid</td>\n",
       "      <td>PY</td>\n",
       "      <td>4</td>\n",
       "    </tr>\n",
       "    <tr>\n",
       "      <th>1</th>\n",
       "      <td>2020-04-14</td>\n",
       "      <td>Paid</td>\n",
       "      <td>FR</td>\n",
       "      <td>35</td>\n",
       "    </tr>\n",
       "    <tr>\n",
       "      <th>2</th>\n",
       "      <td>2020-04-30</td>\n",
       "      <td>Paid</td>\n",
       "      <td>JP</td>\n",
       "      <td>25</td>\n",
       "    </tr>\n",
       "    <tr>\n",
       "      <th>3</th>\n",
       "      <td>2020-03-20</td>\n",
       "      <td>Paid</td>\n",
       "      <td>DE</td>\n",
       "      <td>11</td>\n",
       "    </tr>\n",
       "    <tr>\n",
       "      <th>4</th>\n",
       "      <td>2020-04-30</td>\n",
       "      <td>Paid</td>\n",
       "      <td>IT</td>\n",
       "      <td>8</td>\n",
       "    </tr>\n",
       "  </tbody>\n",
       "</table>\n",
       "</div>"
      ],
      "text/plain": [
       "  Install_Dates source_type Country  installs\n",
       "0    2020-05-18        Paid      PY         4\n",
       "1    2020-04-14        Paid      FR        35\n",
       "2    2020-04-30        Paid      JP        25\n",
       "3    2020-03-20        Paid      DE        11\n",
       "4    2020-04-30        Paid      IT         8"
      ]
     },
     "execution_count": 64,
     "metadata": {},
     "output_type": "execute_result"
    }
   ],
   "source": [
    "df = pd.read_csv('source_comparison.csv')\n",
    "df.head()"
   ]
  },
  {
   "cell_type": "code",
   "execution_count": 65,
   "id": "c11b468d",
   "metadata": {
    "scrolled": true
   },
   "outputs": [
    {
     "name": "stdout",
     "output_type": "stream",
     "text": [
      "<class 'pandas.core.frame.DataFrame'>\n",
      "RangeIndex: 18606 entries, 0 to 18605\n",
      "Data columns (total 4 columns):\n",
      " #   Column         Non-Null Count  Dtype \n",
      "---  ------         --------------  ----- \n",
      " 0   Install_Dates  18606 non-null  object\n",
      " 1   source_type    18606 non-null  object\n",
      " 2   Country        18606 non-null  object\n",
      " 3   installs       18606 non-null  int64 \n",
      "dtypes: int64(1), object(3)\n",
      "memory usage: 581.6+ KB\n"
     ]
    }
   ],
   "source": [
    "df.info()"
   ]
  },
  {
   "cell_type": "markdown",
   "id": "6bda55ce",
   "metadata": {},
   "source": [
    "# Гипотеза маркетологов: <br>Когда маркетологи привлекают больше рекламного траффика, растет и органический."
   ]
  },
  {
   "cell_type": "markdown",
   "id": "cdb91592",
   "metadata": {},
   "source": [
    "Гипотезу лучше переформулировать как Н0: Между притоком рекламного и органического трафика нет значимой зависимости. <br>\n",
    "Альтенативная Н1: Приток рекламного и органического трафика взаимосвязаны."
   ]
  },
  {
   "cell_type": "code",
   "execution_count": 66,
   "id": "2895d8b2",
   "metadata": {
    "scrolled": true
   },
   "outputs": [],
   "source": [
    "# Создадим сводную таблицу для расчетов и построим график\n",
    "df_pivot = pd.pivot_table(df,\n",
    "                          index=\"Install_Dates\",\n",
    "                          values=\"installs\",\n",
    "                          columns=\"source_type\",\n",
    "                          aggfunc='sum').reset_index()"
   ]
  },
  {
   "cell_type": "code",
   "execution_count": 67,
   "id": "580acaaa",
   "metadata": {
    "scrolled": true
   },
   "outputs": [
    {
     "data": {
      "image/png": "[encoded data removed]",
      "text/plain": [
       "<Figure size 640x480 with 1 Axes>"
      ]
     },
     "metadata": {},
     "output_type": "display_data"
    }
   ],
   "source": [
    "sns.regplot(x=df_pivot.Organic, y=df_pivot.Paid)\n",
    "plt.show()"
   ]
  },
  {
   "cell_type": "code",
   "execution_count": 68,
   "id": "53e6d218",
   "metadata": {
    "scrolled": true
   },
   "outputs": [],
   "source": [
    "# Уберем 4 выброса из таблицы, построим новый график\n",
    "df_pivot = df_pivot.sort_values(by='Organic', ascending=False).iloc[4:]"
   ]
  },
  {
   "cell_type": "code",
   "execution_count": 69,
   "id": "e0c09724",
   "metadata": {
    "scrolled": true
   },
   "outputs": [
    {
     "data": {
      "image/png": "[encoded data removed]",
      "text/plain": [
       "<Figure size 640x480 with 1 Axes>"
      ]
     },
     "metadata": {},
     "output_type": "display_data"
    }
   ],
   "source": [
    "sns.regplot(x=df_pivot.Organic, y=df_pivot.Paid)\n",
    "plt.show()"
   ]
  },
  {
   "cell_type": "markdown",
   "id": "895ff483",
   "metadata": {},
   "source": [
    "Визуально прослеживается некоторая зависимость."
   ]
  },
  {
   "cell_type": "code",
   "execution_count": 70,
   "id": "60d5bb0a",
   "metadata": {
    "scrolled": true
   },
   "outputs": [
    {
     "data": {
      "image/png": "[encoded data removed]",
      "text/plain": [
       "<Figure size 640x480 with 1 Axes>"
      ]
     },
     "metadata": {},
     "output_type": "display_data"
    }
   ],
   "source": [
    "sns.kdeplot(data={\n",
    "        \"Organic\": df_pivot.Organic,\n",
    "        \"Paid\": df_pivot.Paid\n",
    "    },\n",
    "    common_norm=False,\n",
    "    palette = 'cubehelix')\n",
    "plt.show()"
   ]
  },
  {
   "cell_type": "markdown",
   "id": "336c3dcd",
   "metadata": {},
   "source": [
    "Распределения похожи на нормальные, обязательно проверим расчетным методом."
   ]
  },
  {
   "cell_type": "code",
   "execution_count": 71,
   "id": "01fee78e",
   "metadata": {
    "scrolled": true
   },
   "outputs": [
    {
     "data": {
      "text/plain": [
       "0.9846438765525818"
      ]
     },
     "execution_count": 71,
     "metadata": {},
     "output_type": "execute_result"
    }
   ],
   "source": [
    "stats.shapiro(df_pivot['Paid']).statistic"
   ]
  },
  {
   "cell_type": "code",
   "execution_count": 72,
   "id": "7f756ad7",
   "metadata": {
    "scrolled": true
   },
   "outputs": [
    {
     "data": {
      "text/plain": [
       "0.9656698107719421"
      ]
     },
     "execution_count": 72,
     "metadata": {},
     "output_type": "execute_result"
    }
   ],
   "source": [
    "stats.shapiro(df_pivot['Organic']).statistic"
   ]
  },
  {
   "cell_type": "markdown",
   "id": "a6bb6010",
   "metadata": {},
   "source": [
    "Оба распределения нормальные, критерий Шапиро-Уилка больше уровня значимости 0,05, можно применить критерий Пирсона."
   ]
  },
  {
   "cell_type": "code",
   "execution_count": 73,
   "id": "18604138",
   "metadata": {
    "scrolled": true
   },
   "outputs": [
    {
     "data": {
      "text/plain": [
       "0.7314551753335484"
      ]
     },
     "execution_count": 73,
     "metadata": {},
     "output_type": "execute_result"
    }
   ],
   "source": [
    "stats.pearsonr(df_pivot['Organic'], df_pivot['Paid']).statistic"
   ]
  },
  {
   "cell_type": "markdown",
   "id": "1a2e44a0",
   "metadata": {},
   "source": [
    "Отвергаем гипотезу Н0 о независимости рекламного и органического траффика, принимаем альтернативную гипотезу Н1 о наличии связи, т.к. коэффициент корреляции Спирмена = 0.73, что говорит о явной линейной зависимости двух наблюдаемых признаков. Но расчет не дает информацию о том, какая переменная зависимая. То есть, без знания бизнес-процессов нельзя утверждать, зависит рекламный трафик от органического, или наоборот.\n",
    "<br><b> Если есть наблюдения в бизнесе, что рекламный трафик приносит органический, то гипотеза макетолов верна - чем больше рекламного трафика, тем больше орагнического."
   ]
  }
 ],
 "metadata": {
  "kernelspec": {
   "display_name": "Python 3 (ipykernel)",
   "language": "python",
   "name": "python3"
  },
  "language_info": {
   "codemirror_mode": {
    "name": "ipython",
    "version": 3
   },
   "file_extension": ".py",
   "mimetype": "text/x-python",
   "name": "python",
   "nbconvert_exporter": "python",
   "pygments_lexer": "ipython3",
   "version": "3.10.12"
  },
  "varInspector": {
   "cols": {
    "lenName": 16,
    "lenType": 16,
    "lenVar": 40
   },
   "kernels_config": {
    "python": {
     "delete_cmd_postfix": "",
     "delete_cmd_prefix": "del ",
     "library": "var_list.py",
     "varRefreshCmd": "print(var_dic_list())"
    },
    "r": {
     "delete_cmd_postfix": ") ",
     "delete_cmd_prefix": "rm(",
     "library": "var_list.r",
     "varRefreshCmd": "cat(var_dic_list()) "
    }
   },
   "types_to_exclude": [
    "module",
    "function",
    "builtin_function_or_method",
    "instance",
    "_Feature"
   ],
   "window_display": false
  }
 },
 "nbformat": 4,
 "nbformat_minor": 5
}
